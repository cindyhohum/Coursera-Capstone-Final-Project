{
 "cells": [
  {
   "cell_type": "markdown",
   "metadata": {},
   "source": [
    "# Location Analysis for Salt Lake City's Next Restaurant"
   ]
  },
  {
   "cell_type": "markdown",
   "metadata": {},
   "source": [
    "## The Problem: Itty Bitty Salt Lake City"
   ]
  },
  {
   "cell_type": "markdown",
   "metadata": {},
   "source": [
    "#### Salt Lake City is big enough for any restaurateur to find success if they know how to navigate the best locations. But a poor location could spell failure. Traffic patterns, competition, and local tastes are crucial components to understand in order to find the ultimate location. "
   ]
  },
  {
   "cell_type": "markdown",
   "metadata": {},
   "source": [
    "## The Solution: Use Data to Pinpoint the Top Three Locations"
   ]
  },
  {
   "cell_type": "markdown",
   "metadata": {},
   "source": [
    "#### Using Foursquare data, I will determine the top three locations for a new restaurant. This information will help a restaurateur and their investors decide on the best location for opening a new restaurant in Salt Lake City.\n",
    "#### The main areas I will focus on are first, traffic patterns (demonstrated by frequency of venue visits), second, competition from other restaurants (demonstrated by location density of existing restaurants), and third, local tastes (demonstrated by ratings of other restaurants)."
   ]
  },
  {
   "cell_type": "code",
   "execution_count": null,
   "metadata": {},
   "outputs": [],
   "source": []
  }
 ],
 "metadata": {
  "kernelspec": {
   "display_name": "Python 3",
   "language": "python",
   "name": "python3"
  },
  "language_info": {
   "codemirror_mode": {
    "name": "ipython",
    "version": 3
   },
   "file_extension": ".py",
   "mimetype": "text/x-python",
   "name": "python",
   "nbconvert_exporter": "python",
   "pygments_lexer": "ipython3",
   "version": "3.7.6"
  }
 },
 "nbformat": 4,
 "nbformat_minor": 4
}
